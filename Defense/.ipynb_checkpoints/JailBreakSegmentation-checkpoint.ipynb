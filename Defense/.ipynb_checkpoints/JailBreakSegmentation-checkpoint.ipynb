{
 "cells": [
  {
   "cell_type": "code",
   "execution_count": 2,
   "id": "c32566fc",
   "metadata": {},
   "outputs": [],
   "source": [
    "model=\"../train/models/new_synth_binary_v2/checkpoint-3000\"\n"
   ]
  },
  {
   "cell_type": "code",
   "execution_count": null,
   "id": "996e3c16",
   "metadata": {},
   "outputs": [],
   "source": [
    "from gliner import GLiNER \n",
    "trained_model=GLiNER.from_pretrained(model,device=\"cuda:0\")\n",
    "trained_model=trained_model.to(\"cuda:0\")"
   ]
  },
  {
   "cell_type": "markdown",
   "id": "c82877c2",
   "metadata": {},
   "source": [
    "## DATASETS"
   ]
  },
  {
   "cell_type": "code",
   "execution_count": 4,
   "id": "e9d51541",
   "metadata": {},
   "outputs": [],
   "source": [
    "import json\n",
    "deep_inception=json.load(open(\"../Jailbreak_attacks/attacks2test/DeepInception/data.json\",\"r\"))\n",
    "dan=json.load(open(\"../Jailbreak_attacks/attacks2test/DAN/Dan_samples.json\"))\n",
    "deep_prompts=[{\"prompt\":item[\"inception_attack\"],\"ann\":[item[\"plain_attack\"].lower().replace(\".\",\"\"),1]} for item in deep_inception]\n",
    "dan_prompts=[{\"prompt\":item[\"full_prompt\"],\"ann\":[item[\"question\"],1]} for item in dan]"
   ]
  },
  {
   "cell_type": "code",
   "execution_count": 5,
   "id": "4ff1317a",
   "metadata": {},
   "outputs": [],
   "source": [
    "import os\n",
    "sap_200_categories = os.listdir(\"../Jailbreak_attacks/attacks2test/SAP200/\")\n",
    "sap_prompts=[]\n",
    "for category in sap_200_categories:\n",
    "    attack = json.load(open(f\"../Jailbreak_attacks/attacks2test/SAP200/{category}/generated_cases.json\"))\n",
    "    for item in attack:\n",
    "        sap_prompts.append({\"category\": category, \"prompt\": item[\"Attack Prompt\"]})\n",
    "\n"
   ]
  },
  {
   "cell_type": "code",
   "execution_count": 14,
   "id": "d3463899",
   "metadata": {},
   "outputs": [
    {
     "name": "stdout",
     "output_type": "stream",
     "text": [
      "Processing DAN\n"
     ]
    },
    {
     "name": "stderr",
     "output_type": "stream",
     "text": [
      "100%|████████████████████████████████████████████████████████████████████████████████████████████████████████████████████████████████████████████████████████████████████████████████████████████| 1560/1560 [01:57<00:00, 13.31it/s]\n"
     ]
    },
    {
     "name": "stdout",
     "output_type": "stream",
     "text": [
      "Processing SAP200\n"
     ]
    },
    {
     "name": "stderr",
     "output_type": "stream",
     "text": [
      "100%|████████████████████████████████████████████████████████████████████████████████████████████████████████████████████████████████████████████████████████████████████████████████████████████| 1600/1600 [00:39<00:00, 40.89it/s]\n"
     ]
    },
    {
     "name": "stdout",
     "output_type": "stream",
     "text": [
      "Processing DeepInception\n"
     ]
    },
    {
     "name": "stderr",
     "output_type": "stream",
     "text": [
      "100%|████████████████████████████████████████████████████████████████████████████████████████████████████████████████████████████████████████████████████████████████████████████████████████████████| 50/50 [00:01<00:00, 42.62it/s]\n"
     ]
    }
   ],
   "source": [
    "import os\n",
    "import json\n",
    "from tqdm import tqdm\n",
    "import numpy as np\n",
    "str2id={\"malicious goal\":1,\"benign goal\":0}\n",
    "attacks={\"DAN\":dan_prompts,\"SAP200\":sap_prompts,\"DeepInception\":deep_prompts}\n",
    "for attack,data in attacks.items():\n",
    "    output=[]   \n",
    "    print(\"Processing\",attack)\n",
    "    for item in tqdm(data):\n",
    "        prompt=item[\"prompt\"]\n",
    "        answers=trained_model.predict_entities(prompt,labels=[\"malicious goal\",\"benign goal\"],flat_ner=True,multi_label=False,threshold=0.10)\n",
    "        request=\"[]\"\n",
    "        if len(answers)>0:\n",
    "            best=np.argmax([x[\"score\"] for x in answers])\n",
    "            best_answer=answers[best]\n",
    "            lbl=best_answer[\"label\"]\n",
    "            request=best_answer[\"text\"] \n",
    "            lbl=str2id[lbl]           \n",
    "        else:\n",
    "            lbl=0\n",
    "        output.append({\"prompt\":item[\"prompt\"],\"user_request\":request,\"label\":lbl})\n",
    "    with open(f\"output/{attack}_JS.json\",\"w\") as f:\n",
    "        json.dump(output,f,indent=2)"
   ]
  },
  {
   "cell_type": "code",
   "execution_count": 17,
   "id": "74a16fa6",
   "metadata": {},
   "outputs": [],
   "source": [
    "from rouge_score import rouge_scorer\n",
    "\n",
    "scorer = rouge_scorer.RougeScorer(['rougeL'], use_stemmer=True)\n",
    "\n",
    "def compute_metrics(predictions,gt):\n",
    "    tp,fp,fn=0,0,0\n",
    "    for real_item in gt:\n",
    "        for pred_item in predictions:\n",
    "            if pred_item[\"prompt\"]==real_item[\"prompt\"]:\n",
    "                pred_span=pred_item[\"user_request\"]   \n",
    "                pred_label=pred_item[\"label\"]\n",
    "                real_span,real_label=real_item[\"ann\"]\n",
    "                #print(pred_span,len(pred_span))\n",
    "                if pred_span!=\"[]\":                    \n",
    "                    rouge_score=scorer.score(real_span, pred_span)[\"rougeL\"].fmeasure         \n",
    "               \n",
    "                    if rouge_score >=0.70 and pred_label==real_label:\n",
    "                        tp+=1\n",
    "                    else:\n",
    "                      \n",
    "                        fp+=1\n",
    "                else:\n",
    "                    fn+=1\n",
    "  \n",
    "    p=tp/(tp+fp)\n",
    "    r=tp/(tp+fn)\n",
    "    f1=2*(p*r)/(p+r)\n",
    "    return p,r,f1"
   ]
  },
  {
   "cell_type": "code",
   "execution_count": 23,
   "id": "c03de05a",
   "metadata": {},
   "outputs": [
    {
     "name": "stdout",
     "output_type": "stream",
     "text": [
      "Dataset DAN\n",
      "Precision: 62.64 --Recall: 77.93 --F1: 69.46\n",
      "**************************************************\n",
      "Dataset DeepInception\n",
      "Precision: 82.00 --Recall: 100.00 --F1: 90.11\n",
      "**************************************************\n"
     ]
    }
   ],
   "source": [
    "DATASETS={\"DAN\":dan_prompts,\"DeepInception\":deep_prompts}\n",
    "for name,dataset in DATASETS.items():\n",
    "    print(\"Dataset\",name)\n",
    "    predictions=json.load(open(f\"output/{name}_JS.json\"))\n",
    "    p,r,f1=compute_metrics(predictions,dataset)\n",
    "    print(f\"Precision: {p*100:.2f} --Recall: {r*100:.2f} --F1: {f1*100:.2f}\")\n",
    "    print(\"*\"*50)"
   ]
  }
 ],
 "metadata": {
  "kernelspec": {
   "display_name": "Python 3 (ipykernel)",
   "language": "python",
   "name": "python3"
  },
  "language_info": {
   "codemirror_mode": {
    "name": "ipython",
    "version": 3
   },
   "file_extension": ".py",
   "mimetype": "text/x-python",
   "name": "python",
   "nbconvert_exporter": "python",
   "pygments_lexer": "ipython3",
   "version": "3.11.11"
  }
 },
 "nbformat": 4,
 "nbformat_minor": 5
}
