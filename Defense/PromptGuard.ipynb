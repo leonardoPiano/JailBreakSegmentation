{
 "cells": [
  {
   "cell_type": "code",
   "execution_count": 6,
   "id": "62da9506-c830-4593-817b-1db66b1a6016",
   "metadata": {},
   "outputs": [],
   "source": [
    "import json\n",
    "import os\n",
    "sap_200_categories = os.listdir(\"../Jailbreak_attacks/attacks2test/SAP200/\")\n",
    "sap_prompts=[]\n",
    "for category in sap_200_categories:\n",
    "    attack = json.load(open(f\"../Jailbreak_attacks/attacks2test/SAP200/{category}/generated_cases.json\"))\n",
    "    for item in attack:\n",
    "        sap_prompts.append({\"category\": category, \"prompt\": item[\"Attack Prompt\"]})\n",
    "        \n",
    "deep_inception=json.load(open(\"../Jailbreak_attacks/attacks2test/DeepInception/data.json\",\"r\"))\n",
    "dan=json.load(open(\"../Jailbreak_attacks/attacks2test/DAN/Dan_samples.json\"))\n",
    "deep_prompts=[{\"prompt\":item[\"inception_attack\"],\"ann\":[item[\"plain_attack\"].lower().replace(\".\",\"\"),1]} for item in deep_inception]\n",
    "dan_prompts=[{\"prompt\":item[\"full_prompt\"],\"ann\":[item[\"question\"],1]} for item in dan]"
   ]
  },
  {
   "cell_type": "code",
   "execution_count": 7,
   "id": "bc1425ea-245a-426a-87b3-d9a06eb48de8",
   "metadata": {},
   "outputs": [
    {
     "name": "stderr",
     "output_type": "stream",
     "text": [
      "/home/unica/anaconda3/envs/vLLM_leo/lib/python3.11/site-packages/tqdm/auto.py:21: TqdmWarning: IProgress not found. Please update jupyter and ipywidgets. See https://ipywidgets.readthedocs.io/en/stable/user_install.html\n",
      "  from .autonotebook import tqdm as notebook_tqdm\n",
      "Device set to use cuda:0\n"
     ]
    }
   ],
   "source": [
    "from transformers import pipeline\n",
    "\n",
    "classifier = pipeline(\"text-classification\", model=\"meta-llama/Llama-Prompt-Guard-2-86M\")"
   ]
  },
  {
   "cell_type": "code",
   "execution_count": 4,
   "id": "d8b11406-3060-4077-8c16-d7c9d4db8ca3",
   "metadata": {},
   "outputs": [
    {
     "name": "stdout",
     "output_type": "stream",
     "text": [
      "Processing DAN\n"
     ]
    },
    {
     "name": "stderr",
     "output_type": "stream",
     "text": [
      "  0%|▎                                                                                                                         | 4/1560 [00:00<03:52,  6.69it/s]You seem to be using the pipelines sequentially on GPU. In order to maximize efficiency please use a dataset\n",
      "100%|███████████████████████████████████████████████████████████████████████████████████████████████████████████████████████| 1560/1560 [00:41<00:00, 37.79it/s]\n"
     ]
    },
    {
     "name": "stdout",
     "output_type": "stream",
     "text": [
      "Processing SAP200\n"
     ]
    },
    {
     "name": "stderr",
     "output_type": "stream",
     "text": [
      "100%|███████████████████████████████████████████████████████████████████████████████████████████████████████████████████████| 1600/1600 [00:17<00:00, 89.59it/s]\n"
     ]
    },
    {
     "name": "stdout",
     "output_type": "stream",
     "text": [
      "Processing DeepInception\n"
     ]
    },
    {
     "name": "stderr",
     "output_type": "stream",
     "text": [
      "100%|███████████████████████████████████████████████████████████████████████████████████████████████████████████████████████████| 50/50 [00:00<00:00, 88.25it/s]\n"
     ]
    }
   ],
   "source": [
    "from tqdm import tqdm\n",
    "str2id={\"LABEL_1\":1,\"LABEL_0\":0}\n",
    "attacks={\"DAN\":dan_prompts,\"SAP200\":sap_prompts,\"DeepInception\":deep_prompts}\n",
    "for attack,data in attacks.items():\n",
    "    output=[]  \n",
    "    print(\"Processing\",attack)\n",
    "    for item in tqdm(data):\n",
    "        prompt=item[\"prompt\"]\n",
    "        label=str2id[classifier(prompt)[0][\"label\"]]\n",
    "        output.append({\"prompt\":item[\"prompt\"],\"label\":label})\n",
    "    with open(f\"output/{attack}_promptguard.json\",\"w\") as f:\n",
    "       json.dump(output,f,indent=2)"
   ]
  }
 ],
 "metadata": {
  "kernelspec": {
   "display_name": "Python 3 (ipykernel)",
   "language": "python",
   "name": "python3"
  },
  "language_info": {
   "codemirror_mode": {
    "name": "ipython",
    "version": 3
   },
   "file_extension": ".py",
   "mimetype": "text/x-python",
   "name": "python",
   "nbconvert_exporter": "python",
   "pygments_lexer": "ipython3",
   "version": "3.11.11"
  }
 },
 "nbformat": 4,
 "nbformat_minor": 5
}
