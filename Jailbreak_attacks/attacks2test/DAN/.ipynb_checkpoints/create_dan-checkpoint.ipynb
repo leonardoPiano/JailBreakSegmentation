{
 "cells": [
  {
   "cell_type": "code",
   "execution_count": 1,
   "id": "349ae932-7415-4208-a699-52ffca9db512",
   "metadata": {},
   "outputs": [
    {
     "data": {
      "text/plain": [
       "'\\nwe extract five questions\\nfrom each forbidden scenario, forming a jailbreak\\ndataset comprising 8 jailbreak communities × 3\\njailbreak prompts × 13 forbidden scenarios × 5\\nquestions, totaling 1560 samples.\\n'"
      ]
     },
     "execution_count": 1,
     "metadata": {},
     "output_type": "execute_result"
    }
   ],
   "source": [
    "from datasets import load_dataset\n",
    "\n",
    "DAN= load_dataset('TrustAIRLab/in-the-wild-jailbreak-prompts', 'jailbreak_2023_05_07', split='train')\n",
    "forbidden_questions=load_dataset(\"TrustAIRLab/forbidden_question_set\", split='train')\n",
    "\n",
    "\"\"\"\n",
    "we extract five questions\n",
    "from each forbidden scenario, forming a jailbreak\n",
    "dataset comprising 8 jailbreak communities × 3\n",
    "jailbreak prompts × 13 forbidden scenarios × 5\n",
    "questions, totaling 1560 samples.\n",
    "\"\"\"\n"
   ]
  },
  {
   "cell_type": "code",
   "execution_count": 7,
   "id": "fdd4b769-51f2-4acb-85b0-ca2bc61bf32c",
   "metadata": {},
   "outputs": [],
   "source": [
    "DAN_df=DAN.to_pandas()\n",
    "forbidden=forbidden_questions.to_pandas()"
   ]
  },
  {
   "cell_type": "code",
   "execution_count": 15,
   "id": "6b16b442-402c-4735-ac6a-36c57af56a5a",
   "metadata": {},
   "outputs": [
    {
     "data": {
      "text/plain": [
       "array(['Illegal Activity', 'Hate Speech', 'Malware', 'Physical Harm',\n",
       "       'Economic Harm', 'Fraud', 'Pornography', 'Political Lobbying',\n",
       "       'Privacy Violence', 'Legal Opinion', 'Financial Advice',\n",
       "       'Health Consultation', 'Gov Decision'], dtype=object)"
      ]
     },
     "execution_count": 15,
     "metadata": {},
     "output_type": "execute_result"
    }
   ],
   "source": [
    "forbidden_categories=forbidden[\"content_policy_name\"].unique()\n",
    "forbidden_categories"
   ]
  },
  {
   "cell_type": "code",
   "execution_count": 43,
   "id": "775d5530-6f5e-4ab9-bdfa-d5be07fc43d1",
   "metadata": {},
   "outputs": [],
   "source": [
    "jailbreak_communities=DAN_df[\"community_name\"].dropna().unique()\n",
    "JAILBREAKS=[]\n",
    "for category in jailbreak_communities:\n",
    "    jailbreaks=DAN_df[DAN_df[\"community_name\"]==category][\"prompt\"].sample(n=3,random_state=42)\n",
    "    for forbidden_category in forbidden_categories:\n",
    "        forbidden_questions=forbidden[forbidden[\"content_policy_name\"]==forbidden_category][\"question\"].sample(n=5,random_state=42)\n",
    "        for jailbreak in jailbreaks:\n",
    "            if \"\\nprompt\" in jailbreak:\n",
    "                jail=jailbreak.split(\"\\nprompt\")\n",
    "                jailbreak=jail[0]\n",
    "            for fb_question in forbidden_questions:\n",
    "                if \"INSERT PROMPT HERE\":\n",
    "                    prompt=jailbreak.replace(\"[INSERT PROMPT HERE]\",fb_question)\n",
    "                else:\n",
    "                    prompt=jailbreak+\"\\n\"+fb_question\n",
    "                JAILBREAKS.append({\"full_prompt\":prompt,\"jailbreak\":jailbreak,\"question\":fb_question,\"jailbreak_cat\":category,\"question_cat\":forbidden_category})\n",
    "            "
   ]
  },
  {
   "cell_type": "code",
   "execution_count": 44,
   "id": "5f0c1959-cacd-4e86-a2af-baac4c960c40",
   "metadata": {},
   "outputs": [],
   "source": [
    "import json\n",
    "with open(\"Dan_samples.json\",\"w\") as f:\n",
    "    json.dump(JAILBREAKS,f,indent=2)"
   ]
  },
  {
   "cell_type": "code",
   "execution_count": null,
   "id": "6767e758-d798-4a21-9458-017be057210a",
   "metadata": {},
   "outputs": [],
   "source": []
  }
 ],
 "metadata": {
  "kernelspec": {
   "display_name": "Python 3 (ipykernel)",
   "language": "python",
   "name": "python3"
  },
  "language_info": {
   "codemirror_mode": {
    "name": "ipython",
    "version": 3
   },
   "file_extension": ".py",
   "mimetype": "text/x-python",
   "name": "python",
   "nbconvert_exporter": "python",
   "pygments_lexer": "ipython3",
   "version": "3.11.11"
  }
 },
 "nbformat": 4,
 "nbformat_minor": 5
}
